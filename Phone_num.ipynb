{
 "cells": [
  {
   "cell_type": "code",
   "execution_count": 1,
   "id": "7c843db4",
   "metadata": {},
   "outputs": [
    {
     "name": "stdout",
     "output_type": "stream",
     "text": [
      "Collecting phonenumbers\n",
      "  Downloading phonenumbers-9.0.4-py2.py3-none-any.whl (2.6 MB)\n",
      "\u001b[K     |████████████████████████████████| 2.6 MB 5.0 MB/s eta 0:00:01\n",
      "\u001b[?25hInstalling collected packages: phonenumbers\n",
      "Successfully installed phonenumbers-9.0.4\n",
      "Note: you may need to restart the kernel to use updated packages.\n"
     ]
    }
   ],
   "source": [
    "pip install phonenumbers"
   ]
  },
  {
   "cell_type": "code",
   "execution_count": 7,
   "id": "0a82408e",
   "metadata": {},
   "outputs": [
    {
     "name": "stdout",
     "output_type": "stream",
     "text": [
      "Country Code: 44 National Number: 7976503310\n",
      "('Europe/Guernsey', 'Europe/Isle_of_Man', 'Europe/Jersey', 'Europe/London')\n",
      "Orange\n",
      "United Kingdom\n"
     ]
    }
   ],
   "source": [
    "import phonenumbers\n",
    "from phonenumbers import timezone, geocoder, carrier\n",
    "number = input(\"Enter your number with +__: \")\n",
    "try:\n",
    "    phone = phonenumbers.parse(number)\n",
    "    time = timezone.time_zones_for_number(phone)\n",
    "    sim = carrier.name_for_number(phone, \"en\")\n",
    "    reg = geocoder.description_for_number(phone, \"en\")\n",
    "    print(phone)\n",
    "    print(time)\n",
    "    print(sim)\n",
    "    print(reg)\n",
    "except phonenumbers.phonenumberutil.NumberParseException:\n",
    "    print(\"Enter country code with +__\")\n",
    "\n",
    "\n",
    "\n"
   ]
  },
  {
   "cell_type": "code",
   "execution_count": null,
   "id": "4b368d00",
   "metadata": {},
   "outputs": [],
   "source": []
  },
  {
   "cell_type": "code",
   "execution_count": null,
   "id": "21c0a355",
   "metadata": {},
   "outputs": [],
   "source": []
  }
 ],
 "metadata": {
  "kernelspec": {
   "display_name": "base",
   "language": "python",
   "name": "python3"
  },
  "language_info": {
   "codemirror_mode": {
    "name": "ipython",
    "version": 3
   },
   "file_extension": ".py",
   "mimetype": "text/x-python",
   "name": "python",
   "nbconvert_exporter": "python",
   "pygments_lexer": "ipython3",
   "version": "3.9.12"
  }
 },
 "nbformat": 4,
 "nbformat_minor": 5
}
